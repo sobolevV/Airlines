{
 "cells": [
  {
   "cell_type": "markdown",
   "metadata": {},
   "source": [
    "##### Файл - PointzAgregatorPassDotAero"
   ]
  },
  {
   "cell_type": "code",
   "execution_count": 3,
   "metadata": {},
   "outputs": [],
   "source": [
    "import pandas as pd\n",
    "import numpy as np\n",
    "import matplotlib.pyplot as plt\n",
    "import seaborn as sns\n",
    "from datetime import datetime as dt \n",
    "sns.set_palette(\"husl\")\n",
    "file_path = \"PointzAgregatorPassDotAero.csv\""
   ]
  },
  {
   "cell_type": "code",
   "execution_count": 4,
   "metadata": {},
   "outputs": [
    {
     "data": {
      "text/html": [
       "<div>\n",
       "<style scoped>\n",
       "    .dataframe tbody tr th:only-of-type {\n",
       "        vertical-align: middle;\n",
       "    }\n",
       "\n",
       "    .dataframe tbody tr th {\n",
       "        vertical-align: top;\n",
       "    }\n",
       "\n",
       "    .dataframe thead th {\n",
       "        text-align: right;\n",
       "    }\n",
       "</style>\n",
       "<table border=\"1\" class=\"dataframe\">\n",
       "  <thead>\n",
       "    <tr style=\"text-align: right;\">\n",
       "      <th></th>\n",
       "      <th>uid</th>\n",
       "      <th>first</th>\n",
       "      <th>last</th>\n",
       "      <th>type</th>\n",
       "      <th>number</th>\n",
       "      <th>bonusprogramm</th>\n",
       "      <th>type2</th>\n",
       "      <th>type3</th>\n",
       "      <th>Code</th>\n",
       "      <th>Date</th>\n",
       "      <th>Departure</th>\n",
       "      <th>Arrival</th>\n",
       "      <th>Fare</th>\n",
       "    </tr>\n",
       "  </thead>\n",
       "  <tbody>\n",
       "    <tr>\n",
       "      <th>0</th>\n",
       "      <td>613142142</td>\n",
       "      <td>IAROMIR</td>\n",
       "      <td>ZVEREV</td>\n",
       "      <td>Airlines</td>\n",
       "      <td>FB 171388778</td>\n",
       "      <td>Flying Blue</td>\n",
       "      <td>Airlines</td>\n",
       "      <td>Flight</td>\n",
       "      <td>KE827</td>\n",
       "      <td>06.08.2017</td>\n",
       "      <td>rea</td>\n",
       "      <td>SZX</td>\n",
       "      <td>YGRPZT</td>\n",
       "    </tr>\n",
       "    <tr>\n",
       "      <th>1</th>\n",
       "      <td>613142142</td>\n",
       "      <td>IAROMIR</td>\n",
       "      <td>ZVEREV</td>\n",
       "      <td>Airlines</td>\n",
       "      <td>FB 171388778</td>\n",
       "      <td>Flying Blue</td>\n",
       "      <td>Airlines</td>\n",
       "      <td>Flight</td>\n",
       "      <td>MU9706</td>\n",
       "      <td>26.10.2017</td>\n",
       "      <td>PEK</td>\n",
       "      <td>BSD</td>\n",
       "      <td>YSTNYV</td>\n",
       "    </tr>\n",
       "    <tr>\n",
       "      <th>2</th>\n",
       "      <td>103197717</td>\n",
       "      <td>VITALINA</td>\n",
       "      <td>KOROVINA</td>\n",
       "      <td>Airlines</td>\n",
       "      <td>KE 696768759</td>\n",
       "      <td>Korean Air SKYPASS</td>\n",
       "      <td>Airlines</td>\n",
       "      <td>Flight</td>\n",
       "      <td>DL5058</td>\n",
       "      <td>11.09.2017</td>\n",
       "      <td>CHA</td>\n",
       "      <td>ATL</td>\n",
       "      <td>YRSTKY</td>\n",
       "    </tr>\n",
       "    <tr>\n",
       "      <th>3</th>\n",
       "      <td>103197717</td>\n",
       "      <td>VITALINA</td>\n",
       "      <td>KOROVINA</td>\n",
       "      <td>Airlines</td>\n",
       "      <td>KE 696768759</td>\n",
       "      <td>Korean Air SKYPASS</td>\n",
       "      <td>Airlines</td>\n",
       "      <td>Flight</td>\n",
       "      <td>KE1</td>\n",
       "      <td>01.04.2017</td>\n",
       "      <td>rea</td>\n",
       "      <td>HNL</td>\n",
       "      <td>PRSTRU</td>\n",
       "    </tr>\n",
       "    <tr>\n",
       "      <th>4</th>\n",
       "      <td>103197717</td>\n",
       "      <td>VITALINA</td>\n",
       "      <td>KOROVINA</td>\n",
       "      <td>Airlines</td>\n",
       "      <td>KE 696768759</td>\n",
       "      <td>Korean Air SKYPASS</td>\n",
       "      <td>Airlines</td>\n",
       "      <td>Flight</td>\n",
       "      <td>DL837</td>\n",
       "      <td>13.09.2017</td>\n",
       "      <td>ATL</td>\n",
       "      <td>HNL</td>\n",
       "      <td>YGRPNG</td>\n",
       "    </tr>\n",
       "  </tbody>\n",
       "</table>\n",
       "</div>"
      ],
      "text/plain": [
       "         uid     first      last      type        number       bonusprogramm  \\\n",
       "0  613142142   IAROMIR    ZVEREV  Airlines  FB 171388778         Flying Blue   \n",
       "1  613142142   IAROMIR    ZVEREV  Airlines  FB 171388778         Flying Blue   \n",
       "2  103197717  VITALINA  KOROVINA  Airlines  KE 696768759  Korean Air SKYPASS   \n",
       "3  103197717  VITALINA  KOROVINA  Airlines  KE 696768759  Korean Air SKYPASS   \n",
       "4  103197717  VITALINA  KOROVINA  Airlines  KE 696768759  Korean Air SKYPASS   \n",
       "\n",
       "      type2   type3    Code        Date Departure Arrival    Fare  \n",
       "0  Airlines  Flight   KE827  06.08.2017       rea     SZX  YGRPZT  \n",
       "1  Airlines  Flight  MU9706  26.10.2017       PEK     BSD  YSTNYV  \n",
       "2  Airlines  Flight  DL5058  11.09.2017       CHA     ATL  YRSTKY  \n",
       "3  Airlines  Flight     KE1  01.04.2017       rea     HNL  PRSTRU  \n",
       "4  Airlines  Flight   DL837  13.09.2017       ATL     HNL  YGRPNG  "
      ]
     },
     "execution_count": 4,
     "metadata": {},
     "output_type": "execute_result"
    }
   ],
   "source": [
    "main_df = pd.read_csv(file_path, sep=\";\", infer_datetime_format=\"%d.%m.%Y\", na_filter=True,na_values=\"NULL\", dtype={\n",
    "    \"uid\": object\n",
    "})\n",
    "main_df.dropna(inplace=True)\n",
    "main_df.head()"
   ]
  },
  {
   "cell_type": "code",
   "execution_count": 3,
   "metadata": {},
   "outputs": [
    {
     "name": "stdout",
     "output_type": "stream",
     "text": [
      "<class 'pandas.core.frame.DataFrame'>\n",
      "Int64Index: 436090 entries, 0 to 446171\n",
      "Data columns (total 12 columns):\n",
      "uid              436090 non-null object\n",
      "first_last       436090 non-null object\n",
      "type             436090 non-null object\n",
      "number           436090 non-null object\n",
      "bonusprogramm    436090 non-null object\n",
      "type2            436090 non-null object\n",
      "type3            436090 non-null object\n",
      "Code             436090 non-null object\n",
      "Date             436090 non-null object\n",
      "Departure        436090 non-null object\n",
      "Arrival          436090 non-null object\n",
      "Fare             436090 non-null object\n",
      "dtypes: object(12)\n",
      "memory usage: 43.3+ MB\n"
     ]
    }
   ],
   "source": [
    "main_df.info()"
   ]
  },
  {
   "cell_type": "code",
   "execution_count": 4,
   "metadata": {},
   "outputs": [
    {
     "data": {
      "text/plain": [
       "uid              56943\n",
       "first_last       45923\n",
       "type                 1\n",
       "number           88172\n",
       "bonusprogramm        4\n",
       "type2                1\n",
       "type3                1\n",
       "Code             23849\n",
       "Date               366\n",
       "Departure         1128\n",
       "Arrival           1126\n",
       "Fare             10694\n",
       "dtype: int64"
      ]
     },
     "execution_count": 4,
     "metadata": {},
     "output_type": "execute_result"
    }
   ],
   "source": [
    "main_df.nunique()"
   ]
  },
  {
   "cell_type": "markdown",
   "metadata": {},
   "source": [
    "### Преобразование данных и типов"
   ]
  },
  {
   "cell_type": "code",
   "execution_count": 5,
   "metadata": {},
   "outputs": [],
   "source": [
    "# Убираем колонки с 1 значением\n",
    "main_df = main_df.drop(columns=[\"type\", \"type2\", \"type3\"])"
   ]
  },
  {
   "cell_type": "code",
   "execution_count": 6,
   "metadata": {},
   "outputs": [],
   "source": [
    "main_df[\"Date\"] = pd.to_datetime(main_df[\"Date\"], format=\"%d.%m.%Y\")\n",
    "main_df[\"Departure\"] = main_df[\"Departure\"].str.upper()\n",
    "main_df[\"Arrival\"] = main_df[\"Arrival\"].str.upper()"
   ]
  },
  {
   "cell_type": "code",
   "execution_count": 7,
   "metadata": {},
   "outputs": [],
   "source": [
    "flighters_count = main_df[\"number\"].value_counts().to_frame().reset_index(col_fill='code')\n",
    "flighters_count = flighters_count.rename(columns={\"index\": 'number', 'number': 'flights'})"
   ]
  },
  {
   "cell_type": "code",
   "execution_count": 8,
   "metadata": {},
   "outputs": [
    {
     "name": "stdout",
     "output_type": "stream",
     "text": [
      "<class 'pandas.core.frame.DataFrame'>\n",
      "RangeIndex: 88172 entries, 0 to 88171\n",
      "Data columns (total 2 columns):\n",
      "number     88172 non-null object\n",
      "flights    88172 non-null int64\n",
      "dtypes: int64(1), object(1)\n",
      "memory usage: 1.3+ MB\n"
     ]
    }
   ],
   "source": [
    "flighters_count.info()"
   ]
  },
  {
   "cell_type": "code",
   "execution_count": 9,
   "metadata": {},
   "outputs": [
    {
     "data": {
      "text/html": [
       "<div>\n",
       "<style scoped>\n",
       "    .dataframe tbody tr th:only-of-type {\n",
       "        vertical-align: middle;\n",
       "    }\n",
       "\n",
       "    .dataframe tbody tr th {\n",
       "        vertical-align: top;\n",
       "    }\n",
       "\n",
       "    .dataframe thead th {\n",
       "        text-align: right;\n",
       "    }\n",
       "</style>\n",
       "<table border=\"1\" class=\"dataframe\">\n",
       "  <thead>\n",
       "    <tr style=\"text-align: right;\">\n",
       "      <th></th>\n",
       "      <th>uid</th>\n",
       "      <th>first_last</th>\n",
       "      <th>number</th>\n",
       "      <th>bonusprogramm</th>\n",
       "      <th>Code</th>\n",
       "      <th>Date</th>\n",
       "      <th>Departure</th>\n",
       "      <th>Arrival</th>\n",
       "      <th>Fare</th>\n",
       "      <th>flights</th>\n",
       "    </tr>\n",
       "  </thead>\n",
       "  <tbody>\n",
       "    <tr>\n",
       "      <th>0</th>\n",
       "      <td>613142142</td>\n",
       "      <td>IAROMIR ZVEREV</td>\n",
       "      <td>FB 171388778</td>\n",
       "      <td>Flying Blue</td>\n",
       "      <td>KE827</td>\n",
       "      <td>2017-08-06</td>\n",
       "      <td>REA</td>\n",
       "      <td>SZX</td>\n",
       "      <td>YGRPZT</td>\n",
       "      <td>2</td>\n",
       "    </tr>\n",
       "    <tr>\n",
       "      <th>1</th>\n",
       "      <td>613142142</td>\n",
       "      <td>IAROMIR ZVEREV</td>\n",
       "      <td>FB 171388778</td>\n",
       "      <td>Flying Blue</td>\n",
       "      <td>MU9706</td>\n",
       "      <td>2017-10-26</td>\n",
       "      <td>PEK</td>\n",
       "      <td>BSD</td>\n",
       "      <td>YSTNYV</td>\n",
       "      <td>2</td>\n",
       "    </tr>\n",
       "    <tr>\n",
       "      <th>2</th>\n",
       "      <td>103197717</td>\n",
       "      <td>VITALINA KOROVINA</td>\n",
       "      <td>KE 696768759</td>\n",
       "      <td>Korean Air SKYPASS</td>\n",
       "      <td>DL5058</td>\n",
       "      <td>2017-09-11</td>\n",
       "      <td>CHA</td>\n",
       "      <td>ATL</td>\n",
       "      <td>YRSTKY</td>\n",
       "      <td>4</td>\n",
       "    </tr>\n",
       "  </tbody>\n",
       "</table>\n",
       "</div>"
      ],
      "text/plain": [
       "         uid         first_last        number       bonusprogramm    Code  \\\n",
       "0  613142142     IAROMIR ZVEREV  FB 171388778         Flying Blue   KE827   \n",
       "1  613142142     IAROMIR ZVEREV  FB 171388778         Flying Blue  MU9706   \n",
       "2  103197717  VITALINA KOROVINA  KE 696768759  Korean Air SKYPASS  DL5058   \n",
       "\n",
       "        Date Departure Arrival    Fare  flights  \n",
       "0 2017-08-06       REA     SZX  YGRPZT        2  \n",
       "1 2017-10-26       PEK     BSD  YSTNYV        2  \n",
       "2 2017-09-11       CHA     ATL  YRSTKY        4  "
      ]
     },
     "execution_count": 9,
     "metadata": {},
     "output_type": "execute_result"
    }
   ],
   "source": [
    "main_df = pd.merge(main_df, flighters_count, on=\"number\")\n",
    "main_df.head(3)"
   ]
  },
  {
   "cell_type": "markdown",
   "metadata": {},
   "source": [
    "### Графики по отдельным данным"
   ]
  },
  {
   "cell_type": "code",
   "execution_count": 10,
   "metadata": {},
   "outputs": [
    {
     "data": {
      "text/plain": [
       "<matplotlib.axes._subplots.AxesSubplot at 0x1c2fffa2d30>"
      ]
     },
     "execution_count": 10,
     "metadata": {},
     "output_type": "execute_result"
    },
    {
     "data": {
      "image/png": "[encoded data removed]",
      "text/plain": [
       "<Figure size 864x360 with 1 Axes>"
      ]
     },
     "metadata": {
      "needs_background": "light"
     },
     "output_type": "display_data"
    }
   ],
   "source": [
    "plt.figure(figsize=(12, 5))\n",
    "plt.title(\"График распределения кол-ва перелетов\")\n",
    "sns.countplot(x=\"flights\", data=main_df, )"
   ]
  },
  {
   "cell_type": "markdown",
   "metadata": {},
   "source": [
    "### Находим кол-во перелетов, которое в 2р. меньше, чем самое частое кол-во"
   ]
  },
  {
   "cell_type": "code",
   "execution_count": 11,
   "metadata": {},
   "outputs": [
    {
     "data": {
      "text/plain": [
       "16    0.000110\n",
       "15    0.000344\n",
       "14    0.001059\n",
       "13    0.003100\n",
       "12    0.006659\n",
       "11    0.015765\n",
       "10    0.032975\n",
       "9     0.060717\n",
       "Name: flights, dtype: float64"
      ]
     },
     "execution_count": 11,
     "metadata": {},
     "output_type": "execute_result"
    }
   ],
   "source": [
    "flights_freq = main_df[\"flights\"].value_counts()\n",
    "# Выражаем в процентах\n",
    "flights_freq /= flights_freq.sum()\n",
    "# Значения > 5% и != 1, 2\n",
    "flights_freq = flights_freq[(flights_freq <= flights_freq.max()/2) & (~flights_freq.index.isin([1, 2, 3]))]\n",
    "flights_freq.sort_values()"
   ]
  },
  {
   "cell_type": "code",
   "execution_count": 12,
   "metadata": {},
   "outputs": [
    {
     "data": {
      "image/png": "[encoded data removed]",
      "text/plain": [
       "<Figure size 1800x288 with 2 Axes>"
      ]
     },
     "metadata": {
      "needs_background": "light"
     },
     "output_type": "display_data"
    }
   ],
   "source": [
    "plt.figure(figsize=(25, 4))\n",
    "plt.title(\"Наиболее посещаемые аэропорты\", fontsize=16)\n",
    "city_heatmap = main_df[['Departure', 'Arrival']].apply(pd.Series.value_counts) #\n",
    "city_heatmap = city_heatmap.sort_values(by=['Departure', 'Arrival'], ascending=False)\n",
    "city_heatmap = city_heatmap.head(70)\n",
    "\n",
    "sns.heatmap(city_heatmap.T, linewidth=0.02, center=city_heatmap.values.mean(),\n",
    "            cmap=sns.mpl_palette(\"seismic\", 50))\n",
    "xt = plt.xticks(rotation=55)\n"
   ]
  },
  {
   "cell_type": "code",
   "execution_count": null,
   "metadata": {},
   "outputs": [],
   "source": []
  },
  {
   "cell_type": "code",
   "execution_count": 13,
   "metadata": {},
   "outputs": [
    {
     "data": {
      "text/plain": [
       "<matplotlib.axes._subplots.AxesSubplot at 0x1c280374c18>"
      ]
     },
     "execution_count": 13,
     "metadata": {},
     "output_type": "execute_result"
    },
    {
     "data": {
      "image/png": "[encoded data removed]",
      "text/plain": [
       "<Figure size 648x360 with 1 Axes>"
      ]
     },
     "metadata": {
      "needs_background": "light"
     },
     "output_type": "display_data"
    }
   ],
   "source": [
    "plt.figure(figsize=(9, 5))\n",
    "plt.title(\"Кол-во перелетов по месяцам\")\n",
    "sns.countplot(main_df[\"Date\"].dt.month)"
   ]
  },
  {
   "cell_type": "code",
   "execution_count": null,
   "metadata": {},
   "outputs": [],
   "source": []
  },
  {
   "cell_type": "markdown",
   "metadata": {},
   "source": [
    "### Группирование данных о перелетах по кол-ву перелетов, бонус. прогр., дате, коду перелета "
   ]
  },
  {
   "cell_type": "code",
   "execution_count": 14,
   "metadata": {},
   "outputs": [
    {
     "data": {
      "text/html": [
       "<div>\n",
       "<style scoped>\n",
       "    .dataframe tbody tr th:only-of-type {\n",
       "        vertical-align: middle;\n",
       "    }\n",
       "\n",
       "    .dataframe tbody tr th {\n",
       "        vertical-align: top;\n",
       "    }\n",
       "\n",
       "    .dataframe thead th {\n",
       "        text-align: right;\n",
       "    }\n",
       "</style>\n",
       "<table border=\"1\" class=\"dataframe\">\n",
       "  <thead>\n",
       "    <tr style=\"text-align: right;\">\n",
       "      <th></th>\n",
       "      <th>flights</th>\n",
       "      <th>bonusprogramm</th>\n",
       "      <th>Date</th>\n",
       "      <th>Code</th>\n",
       "      <th>uid</th>\n",
       "    </tr>\n",
       "  </thead>\n",
       "  <tbody>\n",
       "    <tr>\n",
       "      <th>380258</th>\n",
       "      <td>9</td>\n",
       "      <td>Aeroflot Bonus</td>\n",
       "      <td>2017-01-01</td>\n",
       "      <td>SU1395</td>\n",
       "      <td>2</td>\n",
       "    </tr>\n",
       "    <tr>\n",
       "      <th>380263</th>\n",
       "      <td>9</td>\n",
       "      <td>Aeroflot Bonus</td>\n",
       "      <td>2017-01-01</td>\n",
       "      <td>SU1491</td>\n",
       "      <td>2</td>\n",
       "    </tr>\n",
       "    <tr>\n",
       "      <th>380266</th>\n",
       "      <td>9</td>\n",
       "      <td>Aeroflot Bonus</td>\n",
       "      <td>2017-01-01</td>\n",
       "      <td>SU1537</td>\n",
       "      <td>2</td>\n",
       "    </tr>\n",
       "    <tr>\n",
       "      <th>380316</th>\n",
       "      <td>9</td>\n",
       "      <td>Aeroflot Bonus</td>\n",
       "      <td>2017-01-04</td>\n",
       "      <td>SU1531</td>\n",
       "      <td>2</td>\n",
       "    </tr>\n",
       "    <tr>\n",
       "      <th>380334</th>\n",
       "      <td>9</td>\n",
       "      <td>Aeroflot Bonus</td>\n",
       "      <td>2017-01-05</td>\n",
       "      <td>SU1459</td>\n",
       "      <td>2</td>\n",
       "    </tr>\n",
       "    <tr>\n",
       "      <th>...</th>\n",
       "      <td>...</td>\n",
       "      <td>...</td>\n",
       "      <td>...</td>\n",
       "      <td>...</td>\n",
       "      <td>...</td>\n",
       "    </tr>\n",
       "    <tr>\n",
       "      <th>421026</th>\n",
       "      <td>11</td>\n",
       "      <td>Aeroflot Bonus</td>\n",
       "      <td>2017-01-09</td>\n",
       "      <td>SU1383</td>\n",
       "      <td>2</td>\n",
       "    </tr>\n",
       "    <tr>\n",
       "      <th>422091</th>\n",
       "      <td>11</td>\n",
       "      <td>Aeroflot Bonus</td>\n",
       "      <td>2017-09-26</td>\n",
       "      <td>DL2971</td>\n",
       "      <td>2</td>\n",
       "    </tr>\n",
       "    <tr>\n",
       "      <th>422805</th>\n",
       "      <td>11</td>\n",
       "      <td>Delta SkyMiles</td>\n",
       "      <td>2017-02-20</td>\n",
       "      <td>OK4822</td>\n",
       "      <td>2</td>\n",
       "    </tr>\n",
       "    <tr>\n",
       "      <th>424902</th>\n",
       "      <td>11</td>\n",
       "      <td>Flying Blue</td>\n",
       "      <td>2017-03-06</td>\n",
       "      <td>SU1563</td>\n",
       "      <td>2</td>\n",
       "    </tr>\n",
       "    <tr>\n",
       "      <th>425377</th>\n",
       "      <td>11</td>\n",
       "      <td>Flying Blue</td>\n",
       "      <td>2017-06-20</td>\n",
       "      <td>SU6011</td>\n",
       "      <td>2</td>\n",
       "    </tr>\n",
       "  </tbody>\n",
       "</table>\n",
       "<p>125 rows × 5 columns</p>\n",
       "</div>"
      ],
      "text/plain": [
       "        flights   bonusprogramm       Date    Code  uid\n",
       "380258        9  Aeroflot Bonus 2017-01-01  SU1395    2\n",
       "380263        9  Aeroflot Bonus 2017-01-01  SU1491    2\n",
       "380266        9  Aeroflot Bonus 2017-01-01  SU1537    2\n",
       "380316        9  Aeroflot Bonus 2017-01-04  SU1531    2\n",
       "380334        9  Aeroflot Bonus 2017-01-05  SU1459    2\n",
       "...         ...             ...        ...     ...  ...\n",
       "421026       11  Aeroflot Bonus 2017-01-09  SU1383    2\n",
       "422091       11  Aeroflot Bonus 2017-09-26  DL2971    2\n",
       "422805       11  Delta SkyMiles 2017-02-20  OK4822    2\n",
       "424902       11     Flying Blue 2017-03-06  SU1563    2\n",
       "425377       11     Flying Blue 2017-06-20  SU6011    2\n",
       "\n",
       "[125 rows x 5 columns]"
      ]
     },
     "execution_count": 14,
     "metadata": {},
     "output_type": "execute_result"
    }
   ],
   "source": [
    "grouped_df = main_df.groupby([\"flights\", \"bonusprogramm\", \"Date\", \"Code\"])[\"uid\"].count().reset_index()\n",
    "# Оставляем данные, где в 1 рейсе есть более 2 пассажиров из списка\n",
    "grouped_df = grouped_df.loc[(grouped_df[\"uid\"] > 1) & (grouped_df[\"flights\"].isin(flights_freq.index))]\n",
    "grouped_df"
   ]
  },
  {
   "cell_type": "raw",
   "metadata": {},
   "source": []
  },
  {
   "cell_type": "markdown",
   "metadata": {},
   "source": []
  },
  {
   "cell_type": "code",
   "execution_count": 15,
   "metadata": {},
   "outputs": [],
   "source": [
    "# Поиск пассажиров с на 1 рейсе с 1-ими хар-ками\n",
    "from itertools import permutations\n",
    "grouped_passengers = {}\n",
    "for index, row in grouped_df[[\"flights\", \"bonusprogramm\", \"Date\", \"Code\"]].iterrows():\n",
    "    row = list(row.values)\n",
    "    tmp_df = main_df.loc[ (main_df[\"flights\"] == row[0]) & (main_df[\"bonusprogramm\"] == row[1]) & (main_df[\"Date\"] == row[2]) & (main_df[\"Code\"] == row[3])]\n",
    "    \n",
    "    if row[0] in grouped_passengers.keys():\n",
    "        vals = np.array([tmp_df[\"uid\"].values])\n",
    "        # print(vals.shape)\n",
    "        # Если на рейсе более 2 пассажиров, то делаем кобинации\n",
    "        if vals.shape[1] > 2:\n",
    "            vals = np.array(list(permutations(vals.reshape(-1,1).tolist(), 2))).reshape(-1, 2)\n",
    "        \n",
    "        grouped_passengers[row[0]] = np.append(grouped_passengers[row[0]], vals, axis=0)\n",
    "        # print(grouped_passengers[row[0]])\n",
    "    else:\n",
    "        grouped_passengers.update({row[0]: np.array(tmp_df[\"uid\"].values, ndmin=2)})\n",
    "        # print(\"created\", row[0])\n"
   ]
  },
  {
   "cell_type": "code",
   "execution_count": null,
   "metadata": {},
   "outputs": [],
   "source": []
  },
  {
   "cell_type": "code",
   "execution_count": 16,
   "metadata": {},
   "outputs": [
    {
     "name": "stdout",
     "output_type": "stream",
     "text": [
      "Пассажиры, которые летали не в одиночку\n",
      "Кол-во людей, которые совершили 9 перелетов = 115\n",
      "Кол-во людей, которые совершили 10 перелетов = 26\n",
      "Кол-во людей, которые совершили 11 перелетов = 5\n"
     ]
    }
   ],
   "source": [
    "passenger_freq_df = pd.DataFrame(columns=[\"uid\", \"flights_with_other\", \"fligts_count\"])\n",
    "\n",
    "print(\"Пассажиры, которые летали не в одиночку\")\n",
    "for key in grouped_passengers.keys():\n",
    "    print(f\"Кол-во людей, которые совершили {key} перелетов = {grouped_passengers[key].shape[0]}\")\n",
    "    passenger_freq = np.reshape(np.unique(grouped_passengers[key], return_counts=True), (-1 ), order=\"F\").reshape(-1, 2)\n",
    "    passenger_freq = passenger_freq[passenger_freq[:, 1] > 1]\n",
    "    passenger_freq = np.insert(passenger_freq, 2, key, axis=1)\n",
    "    passenger_freq_df = passenger_freq_df.append(pd.DataFrame(passenger_freq, columns=[\"uid\", \"flights_with_other\", \"fligts_count\"]))"
   ]
  },
  {
   "cell_type": "markdown",
   "metadata": {},
   "source": [
    "## Пассажиры, совершившие мн-тво перелетов не одни"
   ]
  },
  {
   "cell_type": "code",
   "execution_count": 17,
   "metadata": {},
   "outputs": [
    {
     "data": {
      "text/html": [
       "<div>\n",
       "<style scoped>\n",
       "    .dataframe tbody tr th:only-of-type {\n",
       "        vertical-align: middle;\n",
       "    }\n",
       "\n",
       "    .dataframe tbody tr th {\n",
       "        vertical-align: top;\n",
       "    }\n",
       "\n",
       "    .dataframe thead th {\n",
       "        text-align: right;\n",
       "    }\n",
       "</style>\n",
       "<table border=\"1\" class=\"dataframe\">\n",
       "  <thead>\n",
       "    <tr style=\"text-align: right;\">\n",
       "      <th></th>\n",
       "      <th>uid</th>\n",
       "      <th>flights_with_other</th>\n",
       "      <th>fligts_count</th>\n",
       "      <th>first_last</th>\n",
       "    </tr>\n",
       "  </thead>\n",
       "  <tbody>\n",
       "    <tr>\n",
       "      <th>0</th>\n",
       "      <td>171171977</td>\n",
       "      <td>4</td>\n",
       "      <td>9</td>\n",
       "      <td>ALEKSEI KHOKHLOV</td>\n",
       "    </tr>\n",
       "    <tr>\n",
       "      <th>14</th>\n",
       "      <td>320860633</td>\n",
       "      <td>6</td>\n",
       "      <td>9</td>\n",
       "      <td>ULYANA PIROGOVA</td>\n",
       "    </tr>\n",
       "    <tr>\n",
       "      <th>23</th>\n",
       "      <td>331723808</td>\n",
       "      <td>4</td>\n",
       "      <td>9</td>\n",
       "      <td>ALINA GULYAEVA</td>\n",
       "    </tr>\n",
       "    <tr>\n",
       "      <th>32</th>\n",
       "      <td>399994433</td>\n",
       "      <td>4</td>\n",
       "      <td>9</td>\n",
       "      <td>VALENTINA EMELIANOVA</td>\n",
       "    </tr>\n",
       "    <tr>\n",
       "      <th>41</th>\n",
       "      <td>402610323</td>\n",
       "      <td>4</td>\n",
       "      <td>9</td>\n",
       "      <td>ALINA RYABOVA</td>\n",
       "    </tr>\n",
       "    <tr>\n",
       "      <th>50</th>\n",
       "      <td>463071423</td>\n",
       "      <td>2</td>\n",
       "      <td>9</td>\n",
       "      <td>IGOR KHOKHLOV</td>\n",
       "    </tr>\n",
       "    <tr>\n",
       "      <th>70</th>\n",
       "      <td>598873338</td>\n",
       "      <td>6</td>\n",
       "      <td>9</td>\n",
       "      <td>ALISA KOZINA</td>\n",
       "    </tr>\n",
       "    <tr>\n",
       "      <th>79</th>\n",
       "      <td>644831620</td>\n",
       "      <td>2</td>\n",
       "      <td>9</td>\n",
       "      <td>MARGARITA LOGINOVA</td>\n",
       "    </tr>\n",
       "    <tr>\n",
       "      <th>92</th>\n",
       "      <td>671228478</td>\n",
       "      <td>4</td>\n",
       "      <td>9</td>\n",
       "      <td>SAMIRA TEREKHOVA</td>\n",
       "    </tr>\n",
       "    <tr>\n",
       "      <th>116</th>\n",
       "      <td>771589720</td>\n",
       "      <td>2</td>\n",
       "      <td>9</td>\n",
       "      <td>ALENA LEBEDEVA</td>\n",
       "    </tr>\n",
       "    <tr>\n",
       "      <th>134</th>\n",
       "      <td>798598306</td>\n",
       "      <td>6</td>\n",
       "      <td>9</td>\n",
       "      <td>IGNAT KOCHETOV</td>\n",
       "    </tr>\n",
       "    <tr>\n",
       "      <th>161</th>\n",
       "      <td>899910005</td>\n",
       "      <td>6</td>\n",
       "      <td>9</td>\n",
       "      <td>VLADIMIR ANDRIANOV</td>\n",
       "    </tr>\n",
       "    <tr>\n",
       "      <th>170</th>\n",
       "      <td>919997261</td>\n",
       "      <td>4</td>\n",
       "      <td>9</td>\n",
       "      <td>KRISTINA MARKINA</td>\n",
       "    </tr>\n",
       "    <tr>\n",
       "      <th>184</th>\n",
       "      <td>957076446</td>\n",
       "      <td>2</td>\n",
       "      <td>9</td>\n",
       "      <td>IANA ALEKSANDROVA</td>\n",
       "    </tr>\n",
       "    <tr>\n",
       "      <th>193</th>\n",
       "      <td>995143933</td>\n",
       "      <td>2</td>\n",
       "      <td>9</td>\n",
       "      <td>VIKTORIIA ANDRIANOVA</td>\n",
       "    </tr>\n",
       "    <tr>\n",
       "      <th>202</th>\n",
       "      <td>967850567</td>\n",
       "      <td>2</td>\n",
       "      <td>10</td>\n",
       "      <td>NIKITA IGNATEV</td>\n",
       "    </tr>\n",
       "  </tbody>\n",
       "</table>\n",
       "</div>"
      ],
      "text/plain": [
       "           uid flights_with_other fligts_count            first_last\n",
       "0    171171977                  4            9      ALEKSEI KHOKHLOV\n",
       "14   320860633                  6            9       ULYANA PIROGOVA\n",
       "23   331723808                  4            9        ALINA GULYAEVA\n",
       "32   399994433                  4            9  VALENTINA EMELIANOVA\n",
       "41   402610323                  4            9         ALINA RYABOVA\n",
       "50   463071423                  2            9         IGOR KHOKHLOV\n",
       "70   598873338                  6            9          ALISA KOZINA\n",
       "79   644831620                  2            9    MARGARITA LOGINOVA\n",
       "92   671228478                  4            9      SAMIRA TEREKHOVA\n",
       "116  771589720                  2            9        ALENA LEBEDEVA\n",
       "134  798598306                  6            9        IGNAT KOCHETOV\n",
       "161  899910005                  6            9    VLADIMIR ANDRIANOV\n",
       "170  919997261                  4            9      KRISTINA MARKINA\n",
       "184  957076446                  2            9     IANA ALEKSANDROVA\n",
       "193  995143933                  2            9  VIKTORIIA ANDRIANOVA\n",
       "202  967850567                  2           10        NIKITA IGNATEV"
      ]
     },
     "execution_count": 17,
     "metadata": {},
     "output_type": "execute_result"
    }
   ],
   "source": [
    "passenger_freq_df = pd.merge(passenger_freq_df, main_df[[\"first_last\", \"uid\"]], left_on=\"uid\", right_on=\"uid\", how=\"inner\").drop_duplicates()\n",
    "# passenger_freq_df = passenger_freq_df.drop(columns=[\"first_last_x\"])\n",
    "passenger_freq_df"
   ]
  },
  {
   "cell_type": "code",
   "execution_count": 18,
   "metadata": {},
   "outputs": [],
   "source": [
    "main_df.columns = main_df.columns.str.upper()"
   ]
  },
  {
   "cell_type": "code",
   "execution_count": 39,
   "metadata": {},
   "outputs": [],
   "source": [
    "main_df_merged = pd.merge(main_df, passenger_freq_df[[\"uid\", \"flights_with_other\"]], left_on=\"UID\", right_on=\"uid\", how=\"left\")\n",
    "main_df_merged = main_df_merged.drop(columns=[\"uid\"])"
   ]
  },
  {
   "cell_type": "code",
   "execution_count": 40,
   "metadata": {},
   "outputs": [
    {
     "data": {
      "text/html": [
       "<div>\n",
       "<style scoped>\n",
       "    .dataframe tbody tr th:only-of-type {\n",
       "        vertical-align: middle;\n",
       "    }\n",
       "\n",
       "    .dataframe tbody tr th {\n",
       "        vertical-align: top;\n",
       "    }\n",
       "\n",
       "    .dataframe thead th {\n",
       "        text-align: right;\n",
       "    }\n",
       "</style>\n",
       "<table border=\"1\" class=\"dataframe\">\n",
       "  <thead>\n",
       "    <tr style=\"text-align: right;\">\n",
       "      <th></th>\n",
       "      <th>UID</th>\n",
       "      <th>FIRST_LAST</th>\n",
       "      <th>NUMBER</th>\n",
       "      <th>BONUSPROGRAMM</th>\n",
       "      <th>CODE</th>\n",
       "      <th>DATE</th>\n",
       "      <th>DEPARTURE</th>\n",
       "      <th>ARRIVAL</th>\n",
       "      <th>FARE</th>\n",
       "      <th>FLIGHTS</th>\n",
       "      <th>flights_with_other</th>\n",
       "    </tr>\n",
       "  </thead>\n",
       "  <tbody>\n",
       "    <tr>\n",
       "      <th>41820</th>\n",
       "      <td>644831620</td>\n",
       "      <td>MARGARITA LOGINOVA</td>\n",
       "      <td>FB 294343061</td>\n",
       "      <td>Flying Blue</td>\n",
       "      <td>MU6767</td>\n",
       "      <td>2017-02-16</td>\n",
       "      <td>PVG</td>\n",
       "      <td>SZV</td>\n",
       "      <td>YFLXTD</td>\n",
       "      <td>4</td>\n",
       "      <td>2</td>\n",
       "    </tr>\n",
       "    <tr>\n",
       "      <th>41821</th>\n",
       "      <td>644831620</td>\n",
       "      <td>MARGARITA LOGINOVA</td>\n",
       "      <td>FB 294343061</td>\n",
       "      <td>Flying Blue</td>\n",
       "      <td>VN4007</td>\n",
       "      <td>2017-01-19</td>\n",
       "      <td>HAN</td>\n",
       "      <td>SGN</td>\n",
       "      <td>YFLXLE</td>\n",
       "      <td>4</td>\n",
       "      <td>2</td>\n",
       "    </tr>\n",
       "    <tr>\n",
       "      <th>41822</th>\n",
       "      <td>644831620</td>\n",
       "      <td>MARGARITA LOGINOVA</td>\n",
       "      <td>FB 294343061</td>\n",
       "      <td>Flying Blue</td>\n",
       "      <td>CZ4815</td>\n",
       "      <td>2017-02-13</td>\n",
       "      <td>TPE</td>\n",
       "      <td>PVG</td>\n",
       "      <td>YSTNPL</td>\n",
       "      <td>4</td>\n",
       "      <td>2</td>\n",
       "    </tr>\n",
       "    <tr>\n",
       "      <th>41823</th>\n",
       "      <td>644831620</td>\n",
       "      <td>MARGARITA LOGINOVA</td>\n",
       "      <td>FB 294343061</td>\n",
       "      <td>Flying Blue</td>\n",
       "      <td>SV829</td>\n",
       "      <td>2017-08-29</td>\n",
       "      <td>KUL</td>\n",
       "      <td>MED</td>\n",
       "      <td>YFLXIG</td>\n",
       "      <td>4</td>\n",
       "      <td>2</td>\n",
       "    </tr>\n",
       "    <tr>\n",
       "      <th>41824</th>\n",
       "      <td>644831620</td>\n",
       "      <td>MARGARITA LOGINOVA</td>\n",
       "      <td>SU 246267885</td>\n",
       "      <td>Aeroflot Bonus</td>\n",
       "      <td>SU6630</td>\n",
       "      <td>2017-11-15</td>\n",
       "      <td>TLV</td>\n",
       "      <td>ROV</td>\n",
       "      <td>YFLXPG</td>\n",
       "      <td>9</td>\n",
       "      <td>2</td>\n",
       "    </tr>\n",
       "  </tbody>\n",
       "</table>\n",
       "</div>"
      ],
      "text/plain": [
       "             UID          FIRST_LAST        NUMBER   BONUSPROGRAMM    CODE  \\\n",
       "41820  644831620  MARGARITA LOGINOVA  FB 294343061     Flying Blue  MU6767   \n",
       "41821  644831620  MARGARITA LOGINOVA  FB 294343061     Flying Blue  VN4007   \n",
       "41822  644831620  MARGARITA LOGINOVA  FB 294343061     Flying Blue  CZ4815   \n",
       "41823  644831620  MARGARITA LOGINOVA  FB 294343061     Flying Blue   SV829   \n",
       "41824  644831620  MARGARITA LOGINOVA  SU 246267885  Aeroflot Bonus  SU6630   \n",
       "\n",
       "            DATE DEPARTURE ARRIVAL    FARE  FLIGHTS flights_with_other  \n",
       "41820 2017-02-16       PVG     SZV  YFLXTD        4                  2  \n",
       "41821 2017-01-19       HAN     SGN  YFLXLE        4                  2  \n",
       "41822 2017-02-13       TPE     PVG  YSTNPL        4                  2  \n",
       "41823 2017-08-29       KUL     MED  YFLXIG        4                  2  \n",
       "41824 2017-11-15       TLV     ROV  YFLXPG        9                  2  "
      ]
     },
     "execution_count": 40,
     "metadata": {},
     "output_type": "execute_result"
    }
   ],
   "source": [
    "# Проверка того, что данные добавились\n",
    "main_df_merged[~main_df_merged[\"flights_with_other\"].isna()].head()"
   ]
  },
  {
   "cell_type": "code",
   "execution_count": 45,
   "metadata": {},
   "outputs": [
    {
     "data": {
      "text/html": [
       "<div>\n",
       "<style scoped>\n",
       "    .dataframe tbody tr th:only-of-type {\n",
       "        vertical-align: middle;\n",
       "    }\n",
       "\n",
       "    .dataframe tbody tr th {\n",
       "        vertical-align: top;\n",
       "    }\n",
       "\n",
       "    .dataframe thead th {\n",
       "        text-align: right;\n",
       "    }\n",
       "</style>\n",
       "<table border=\"1\" class=\"dataframe\">\n",
       "  <thead>\n",
       "    <tr style=\"text-align: right;\">\n",
       "      <th></th>\n",
       "      <th>UID</th>\n",
       "      <th>FIRST_LAST</th>\n",
       "      <th>NUMBER</th>\n",
       "      <th>BONUSPROGRAMM</th>\n",
       "      <th>CODE</th>\n",
       "      <th>DATE</th>\n",
       "      <th>DEPARTURE</th>\n",
       "      <th>ARRIVAL</th>\n",
       "      <th>FARE</th>\n",
       "      <th>FLIGHTS</th>\n",
       "      <th>FLIGHTS_WITH_OTHER</th>\n",
       "    </tr>\n",
       "  </thead>\n",
       "  <tbody>\n",
       "    <tr>\n",
       "      <th>0</th>\n",
       "      <td>613142142</td>\n",
       "      <td>IAROMIR ZVEREV</td>\n",
       "      <td>FB 171388778</td>\n",
       "      <td>Flying Blue</td>\n",
       "      <td>KE827</td>\n",
       "      <td>2017-08-06</td>\n",
       "      <td>REA</td>\n",
       "      <td>SZX</td>\n",
       "      <td>YGRPZT</td>\n",
       "      <td>2</td>\n",
       "      <td>NaN</td>\n",
       "    </tr>\n",
       "    <tr>\n",
       "      <th>1</th>\n",
       "      <td>613142142</td>\n",
       "      <td>IAROMIR ZVEREV</td>\n",
       "      <td>FB 171388778</td>\n",
       "      <td>Flying Blue</td>\n",
       "      <td>MU9706</td>\n",
       "      <td>2017-10-26</td>\n",
       "      <td>PEK</td>\n",
       "      <td>BSD</td>\n",
       "      <td>YSTNYV</td>\n",
       "      <td>2</td>\n",
       "      <td>NaN</td>\n",
       "    </tr>\n",
       "    <tr>\n",
       "      <th>2</th>\n",
       "      <td>103197717</td>\n",
       "      <td>VITALINA KOROVINA</td>\n",
       "      <td>KE 696768759</td>\n",
       "      <td>Korean Air SKYPASS</td>\n",
       "      <td>DL5058</td>\n",
       "      <td>2017-09-11</td>\n",
       "      <td>CHA</td>\n",
       "      <td>ATL</td>\n",
       "      <td>YRSTKY</td>\n",
       "      <td>4</td>\n",
       "      <td>NaN</td>\n",
       "    </tr>\n",
       "    <tr>\n",
       "      <th>3</th>\n",
       "      <td>103197717</td>\n",
       "      <td>VITALINA KOROVINA</td>\n",
       "      <td>KE 696768759</td>\n",
       "      <td>Korean Air SKYPASS</td>\n",
       "      <td>KE1</td>\n",
       "      <td>2017-04-01</td>\n",
       "      <td>REA</td>\n",
       "      <td>HNL</td>\n",
       "      <td>PRSTRU</td>\n",
       "      <td>4</td>\n",
       "      <td>NaN</td>\n",
       "    </tr>\n",
       "    <tr>\n",
       "      <th>4</th>\n",
       "      <td>103197717</td>\n",
       "      <td>VITALINA KOROVINA</td>\n",
       "      <td>KE 696768759</td>\n",
       "      <td>Korean Air SKYPASS</td>\n",
       "      <td>DL837</td>\n",
       "      <td>2017-09-13</td>\n",
       "      <td>ATL</td>\n",
       "      <td>HNL</td>\n",
       "      <td>YGRPNG</td>\n",
       "      <td>4</td>\n",
       "      <td>NaN</td>\n",
       "    </tr>\n",
       "  </tbody>\n",
       "</table>\n",
       "</div>"
      ],
      "text/plain": [
       "         UID         FIRST_LAST        NUMBER       BONUSPROGRAMM    CODE  \\\n",
       "0  613142142     IAROMIR ZVEREV  FB 171388778         Flying Blue   KE827   \n",
       "1  613142142     IAROMIR ZVEREV  FB 171388778         Flying Blue  MU9706   \n",
       "2  103197717  VITALINA KOROVINA  KE 696768759  Korean Air SKYPASS  DL5058   \n",
       "3  103197717  VITALINA KOROVINA  KE 696768759  Korean Air SKYPASS     KE1   \n",
       "4  103197717  VITALINA KOROVINA  KE 696768759  Korean Air SKYPASS   DL837   \n",
       "\n",
       "        DATE DEPARTURE ARRIVAL    FARE  FLIGHTS FLIGHTS_WITH_OTHER  \n",
       "0 2017-08-06       REA     SZX  YGRPZT        2                NaN  \n",
       "1 2017-10-26       PEK     BSD  YSTNYV        2                NaN  \n",
       "2 2017-09-11       CHA     ATL  YRSTKY        4                NaN  \n",
       "3 2017-04-01       REA     HNL  PRSTRU        4                NaN  \n",
       "4 2017-09-13       ATL     HNL  YGRPNG        4                NaN  "
      ]
     },
     "execution_count": 45,
     "metadata": {},
     "output_type": "execute_result"
    }
   ],
   "source": [
    "main_df_merged.columns = main_df_merged.columns.str.upper()\n",
    "main_df_merged.head()"
   ]
  },
  {
   "cell_type": "code",
   "execution_count": 46,
   "metadata": {},
   "outputs": [],
   "source": [
    "# write_path = \"C:\\\\Users\\\\callo\\\\PycharmProjects\\\\airlines\\\\normal_data\\\\PointzAgregatorPassDotAero_ready.csv\"\n",
    "# main_df_merged.to_csv(write_path, sep=\";\", na_rep=\"NULL\")"
   ]
  },
  {
   "cell_type": "code",
   "execution_count": null,
   "metadata": {},
   "outputs": [],
   "source": []
  },
  {
   "cell_type": "code",
   "execution_count": 47,
   "metadata": {},
   "outputs": [],
   "source": []
  },
  {
   "cell_type": "raw",
   "metadata": {},
   "source": []
  },
  {
   "cell_type": "code",
   "execution_count": null,
   "metadata": {},
   "outputs": [],
   "source": []
  }
 ],
 "metadata": {
  "kernelspec": {
   "display_name": "Python [conda env:root] *",
   "language": "python",
   "name": "conda-root-py"
  },
  "language_info": {
   "codemirror_mode": {
    "name": "ipython",
    "version": 3
   },
   "file_extension": ".py",
   "mimetype": "text/x-python",
   "name": "python",
   "nbconvert_exporter": "python",
   "pygments_lexer": "ipython3",
   "version": "3.7.3"
  }
 },
 "nbformat": 4,
 "nbformat_minor": 2
}
