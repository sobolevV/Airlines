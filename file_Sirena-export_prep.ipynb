{
 "cells": [
  {
   "cell_type": "markdown",
   "metadata": {},
   "source": [
    "#### Файл - Sirena-export_copy_result"
   ]
  },
  {
   "cell_type": "code",
   "execution_count": 8,
   "metadata": {},
   "outputs": [],
   "source": [
    "import pandas as pd\n",
    "import numpy as np\n",
    "import matplotlib.pyplot as plt\n",
    "import seaborn as sns\n",
    "from datetime import datetime as dt \n",
    "sns.set_palette(\"husl\")\n",
    "file_path = \"Sirena_export_copy_result.csv\""
   ]
  },
  {
   "cell_type": "markdown",
   "metadata": {},
   "source": [
    "### Чтение и преобразование"
   ]
  },
  {
   "cell_type": "code",
   "execution_count": 10,
   "metadata": {},
   "outputs": [],
   "source": [
    "name_formater = lambda x: x.replace(\"'\", \"\")\n",
    "df = pd.read_csv(file_path, sep=\";\", converters={\"PaxName\": name_formater,\n",
    "                                                 \"Paternity\": name_formater}, \n",
    "                na_values=\"None\")\n",
    "df[\"ArrivalDate\"] = pd.to_datetime(df[\"ArrivalDate\"], infer_datetime_format=True)\n",
    "df[\"TravelDoc\"] = df[\"TravelDoc\"].astype(str)\n",
    "df[\"Ticket\"] = df[\"Ticket\"].astype(str)\n",
    "df[\"AgentInfo\"] = df[\"AgentInfo\"].str.upper()\n",
    "\n",
    "import re\n",
    "col_names = list(df.columns)\n",
    "col_names_upper = []\n",
    "for col_name in col_names:\n",
    "    col_names_upper.append(\"_\".join([val.upper() for val in re.findall('[A-Z][^A-Z]*',col_name)]))\n"
   ]
  },
  {
   "cell_type": "code",
   "execution_count": 11,
   "metadata": {},
   "outputs": [
    {
     "data": {
      "text/html": [
       "<div>\n",
       "<style scoped>\n",
       "    .dataframe tbody tr th:only-of-type {\n",
       "        vertical-align: middle;\n",
       "    }\n",
       "\n",
       "    .dataframe tbody tr th {\n",
       "        vertical-align: top;\n",
       "    }\n",
       "\n",
       "    .dataframe thead th {\n",
       "        text-align: right;\n",
       "    }\n",
       "</style>\n",
       "<table border=\"1\" class=\"dataframe\">\n",
       "  <thead>\n",
       "    <tr style=\"text-align: right;\">\n",
       "      <th></th>\n",
       "      <th>PAX_NAME</th>\n",
       "      <th>PATERNITY</th>\n",
       "      <th>DEPART_TIME</th>\n",
       "      <th>ARRIVAL_DATE</th>\n",
       "      <th>ARRIVAL_TIME</th>\n",
       "      <th>FLIGHT_CODE_SH_FROM</th>\n",
       "      <th>DEST</th>\n",
       "      <th>CODE</th>\n",
       "      <th>TICKET</th>\n",
       "      <th>TRAVEL_DOC</th>\n",
       "      <th>SEAT</th>\n",
       "      <th>MEAL</th>\n",
       "      <th>TRV_CLS_FARE</th>\n",
       "      <th>BAGGAGE</th>\n",
       "      <th>AGENT_INFO</th>\n",
       "    </tr>\n",
       "  </thead>\n",
       "  <tbody>\n",
       "    <tr>\n",
       "      <th>0</th>\n",
       "      <td>ILDAR OZEROV</td>\n",
       "      <td>DANIILOVICH</td>\n",
       "      <td>0:05</td>\n",
       "      <td>2017-05-30</td>\n",
       "      <td>8:05</td>\n",
       "      <td>SU1306NO</td>\n",
       "      <td>SVO</td>\n",
       "      <td>OVB</td>\n",
       "      <td>7,36E+15</td>\n",
       "      <td>9 375 053 270</td>\n",
       "      <td>NaN</td>\n",
       "      <td>NaN</td>\n",
       "      <td>J</td>\n",
       "      <td>JGRPGN0PC</td>\n",
       "      <td>GO2SEE</td>\n",
       "    </tr>\n",
       "    <tr>\n",
       "      <th>1</th>\n",
       "      <td>SAMIR KOLOSOV</td>\n",
       "      <td>TAMERLANOVICH</td>\n",
       "      <td>2:15</td>\n",
       "      <td>2017-12-27</td>\n",
       "      <td>4:40</td>\n",
       "      <td>SU1323NO</td>\n",
       "      <td>MMK</td>\n",
       "      <td>SVO</td>\n",
       "      <td>7,40E+15</td>\n",
       "      <td>2 244 645 520</td>\n",
       "      <td>NaN</td>\n",
       "      <td>KSML</td>\n",
       "      <td>Y</td>\n",
       "      <td>NaN</td>\n",
       "      <td>NaN</td>\n",
       "    </tr>\n",
       "    <tr>\n",
       "      <th>2</th>\n",
       "      <td>SNEZHANA IGNATOVA</td>\n",
       "      <td>KONSTANTINOVNA</td>\n",
       "      <td>6:40</td>\n",
       "      <td>2017-09-19</td>\n",
       "      <td>7:45</td>\n",
       "      <td>SU1481NO</td>\n",
       "      <td>KJA</td>\n",
       "      <td>SVO</td>\n",
       "      <td>5,17E+15</td>\n",
       "      <td>8 115 961 316</td>\n",
       "      <td>NaN</td>\n",
       "      <td>NaN</td>\n",
       "      <td>Y</td>\n",
       "      <td>NaN</td>\n",
       "      <td>KUPIBILET</td>\n",
       "    </tr>\n",
       "    <tr>\n",
       "      <th>3</th>\n",
       "      <td>PLATON ZHAROV</td>\n",
       "      <td>ALBERTOVICH</td>\n",
       "      <td>22:10</td>\n",
       "      <td>2017-03-19</td>\n",
       "      <td>1:05</td>\n",
       "      <td>SU1180NO</td>\n",
       "      <td>SVO</td>\n",
       "      <td>VOG</td>\n",
       "      <td>5,27E+15</td>\n",
       "      <td>986 865 148</td>\n",
       "      <td>NaN</td>\n",
       "      <td>NaN</td>\n",
       "      <td>J</td>\n",
       "      <td>JFLXLS0PC</td>\n",
       "      <td>TRAVELGENIO</td>\n",
       "    </tr>\n",
       "    <tr>\n",
       "      <th>4</th>\n",
       "      <td>NIKOLAY NIKOLSKIY</td>\n",
       "      <td>IGOREVICH</td>\n",
       "      <td>22:10</td>\n",
       "      <td>2017-03-19</td>\n",
       "      <td>1:05</td>\n",
       "      <td>SU1180NO</td>\n",
       "      <td>SVO</td>\n",
       "      <td>VOG</td>\n",
       "      <td>6,25E+15</td>\n",
       "      <td>4 396 926 588</td>\n",
       "      <td>NaN</td>\n",
       "      <td>NaN</td>\n",
       "      <td>Y</td>\n",
       "      <td>NaN</td>\n",
       "      <td>OZON.TRAVEL</td>\n",
       "    </tr>\n",
       "  </tbody>\n",
       "</table>\n",
       "</div>"
      ],
      "text/plain": [
       "            PAX_NAME       PATERNITY DEPART_TIME ARRIVAL_DATE ARRIVAL_TIME  \\\n",
       "0       ILDAR OZEROV     DANIILOVICH        0:05   2017-05-30         8:05   \n",
       "1      SAMIR KOLOSOV   TAMERLANOVICH        2:15   2017-12-27         4:40   \n",
       "2  SNEZHANA IGNATOVA  KONSTANTINOVNA        6:40   2017-09-19         7:45   \n",
       "3      PLATON ZHAROV     ALBERTOVICH       22:10   2017-03-19         1:05   \n",
       "4  NIKOLAY NIKOLSKIY       IGOREVICH       22:10   2017-03-19         1:05   \n",
       "\n",
       "  FLIGHT_CODE_SH_FROM DEST CODE    TICKET     TRAVEL_DOC  SEAT  MEAL  \\\n",
       "0            SU1306NO  SVO  OVB  7,36E+15  9 375 053 270   NaN   NaN   \n",
       "1            SU1323NO  MMK  SVO  7,40E+15  2 244 645 520   NaN  KSML   \n",
       "2            SU1481NO  KJA  SVO  5,17E+15  8 115 961 316   NaN   NaN   \n",
       "3            SU1180NO  SVO  VOG  5,27E+15    986 865 148   NaN   NaN   \n",
       "4            SU1180NO  SVO  VOG  6,25E+15  4 396 926 588   NaN   NaN   \n",
       "\n",
       "  TRV_CLS_FARE    BAGGAGE   AGENT_INFO  \n",
       "0            J  JGRPGN0PC       GO2SEE  \n",
       "1            Y        NaN          NaN  \n",
       "2            Y        NaN    KUPIBILET  \n",
       "3            J  JFLXLS0PC  TRAVELGENIO  \n",
       "4            Y        NaN  OZON.TRAVEL  "
      ]
     },
     "execution_count": 11,
     "metadata": {},
     "output_type": "execute_result"
    }
   ],
   "source": [
    "df.columns = col_names_upper\n",
    "df.head()"
   ]
  },
  {
   "cell_type": "code",
   "execution_count": 12,
   "metadata": {},
   "outputs": [
    {
     "data": {
      "text/plain": [
       "PAX_NAME               72970\n",
       "PATERNITY                213\n",
       "DEPART_TIME              206\n",
       "ARRIVAL_DATE             367\n",
       "ARRIVAL_TIME             209\n",
       "FLIGHT_CODE_SH_FROM      385\n",
       "DEST                      48\n",
       "CODE                      48\n",
       "TICKET                  2639\n",
       "TRAVEL_DOC             83218\n",
       "SEAT                       0\n",
       "MEAL                      12\n",
       "TRV_CLS_FARE               4\n",
       "BAGGAGE                15474\n",
       "AGENT_INFO                12\n",
       "dtype: int64"
      ]
     },
     "execution_count": 12,
     "metadata": {},
     "output_type": "execute_result"
    }
   ],
   "source": [
    "df.nunique()"
   ]
  },
  {
   "cell_type": "code",
   "execution_count": 13,
   "metadata": {},
   "outputs": [
    {
     "name": "stdout",
     "output_type": "stream",
     "text": [
      "<class 'pandas.core.frame.DataFrame'>\n",
      "RangeIndex: 230405 entries, 0 to 230404\n",
      "Data columns (total 15 columns):\n",
      "PAX_NAME               230405 non-null object\n",
      "PATERNITY              230405 non-null object\n",
      "DEPART_TIME            230404 non-null object\n",
      "ARRIVAL_DATE           230404 non-null datetime64[ns]\n",
      "ARRIVAL_TIME           230404 non-null object\n",
      "FLIGHT_CODE_SH_FROM    230404 non-null object\n",
      "DEST                   230404 non-null object\n",
      "CODE                   230404 non-null object\n",
      "TICKET                 230405 non-null object\n",
      "TRAVEL_DOC             230405 non-null object\n",
      "SEAT                   0 non-null float64\n",
      "MEAL                   84981 non-null object\n",
      "TRV_CLS_FARE           183293 non-null object\n",
      "BAGGAGE                62457 non-null object\n",
      "AGENT_INFO             212623 non-null object\n",
      "dtypes: datetime64[ns](1), float64(1), object(13)\n",
      "memory usage: 26.4+ MB\n"
     ]
    }
   ],
   "source": [
    "df.info()"
   ]
  },
  {
   "cell_type": "code",
   "execution_count": 14,
   "metadata": {},
   "outputs": [],
   "source": [
    "df = df.drop(columns=[\"SEAT\"])"
   ]
  },
  {
   "cell_type": "code",
   "execution_count": 15,
   "metadata": {},
   "outputs": [],
   "source": [
    "airports_freq = df.groupby([\"DEST\", \"CODE\"]).size().reset_index(name=\"COUNT\")"
   ]
  },
  {
   "cell_type": "code",
   "execution_count": 16,
   "metadata": {},
   "outputs": [],
   "source": [
    "# Перелеты каждого пассажира по документам"
   ]
  },
  {
   "cell_type": "code",
   "execution_count": 17,
   "metadata": {},
   "outputs": [
    {
     "data": {
      "text/plain": [
       "0         9 375 053 270\n",
       "1         2 244 645 520\n",
       "2         8 115 961 316\n",
       "3           986 865 148\n",
       "4         4 396 926 588\n",
       "              ...      \n",
       "230400    7 351 760 618\n",
       "230401    3 256 077 151\n",
       "230402    3 256 077 151\n",
       "230403    8 328 780 960\n",
       "230404              nan\n",
       "Name: TRAVEL_DOC, Length: 230405, dtype: object"
      ]
     },
     "execution_count": 17,
     "metadata": {},
     "output_type": "execute_result"
    }
   ],
   "source": [
    "df[\"TRAVEL_DOC\"]"
   ]
  },
  {
   "cell_type": "code",
   "execution_count": 18,
   "metadata": {},
   "outputs": [
    {
     "data": {
      "text/plain": [
       "<matplotlib.axes._subplots.AxesSubplot at 0x20e9221deb8>"
      ]
     },
     "execution_count": 18,
     "metadata": {},
     "output_type": "execute_result"
    },
    {
     "data": {
      "image/png": "[encoded data removed]",
      "text/plain": [
       "<Figure size 1440x1296 with 2 Axes>"
      ]
     },
     "metadata": {
      "needs_background": "light"
     },
     "output_type": "display_data"
    }
   ],
   "source": [
    "airports_freq_matr = airports_freq.sort_values(by=[\"COUNT\"]).pivot(\"DEST\", \"CODE\", \"COUNT\")\n",
    "# \n",
    "plt.figure(figsize=(20, 18))\n",
    "sns.heatmap(data=airports_freq_matr, cmap=\"Reds\", square=True, center=airports_freq[\"COUNT\"].mean())"
   ]
  },
  {
   "cell_type": "code",
   "execution_count": 19,
   "metadata": {},
   "outputs": [
    {
     "data": {
      "text/plain": [
       "<matplotlib.axes._subplots.AxesSubplot at 0x20e8df73080>"
      ]
     },
     "execution_count": 19,
     "metadata": {},
     "output_type": "execute_result"
    },
    {
     "data": {
      "image/png": "[encoded data removed]",
      "text/plain": [
       "<Figure size 576x288 with 1 Axes>"
      ]
     },
     "metadata": {
      "needs_background": "light"
     },
     "output_type": "display_data"
    }
   ],
   "source": [
    "plt.figure(figsize=(8, 4))\n",
    "plt.title(\"Распределение классов перелета\", fontsize=15)\n",
    "sns.countplot(\"TRV_CLS_FARE\", data=df, saturation=1)"
   ]
  },
  {
   "cell_type": "code",
   "execution_count": 20,
   "metadata": {},
   "outputs": [
    {
     "data": {
      "text/plain": [
       "count    83218.000000\n",
       "mean         2.768692\n",
       "std          2.532433\n",
       "min          1.000000\n",
       "25%          1.000000\n",
       "50%          2.000000\n",
       "75%          4.000000\n",
       "max         48.000000\n",
       "Name: TRAVEL_DOC, dtype: float64"
      ]
     },
     "execution_count": 20,
     "metadata": {},
     "output_type": "execute_result"
    }
   ],
   "source": [
    "flighters_freq = df[\"TRAVEL_DOC\"].value_counts()\n",
    "flighters_freq.describe()"
   ]
  },
  {
   "cell_type": "code",
   "execution_count": 21,
   "metadata": {},
   "outputs": [],
   "source": [
    "fl_freq_df = pd.DataFrame(np.array(np.unique(flighters_freq, return_counts=True)).T, columns=[\"FLIGHTS\", \"FREQUENCY\"])"
   ]
  },
  {
   "cell_type": "code",
   "execution_count": 22,
   "metadata": {},
   "outputs": [
    {
     "data": {
      "text/plain": [
       "<matplotlib.axes._subplots.AxesSubplot at 0x20e926f5dd8>"
      ]
     },
     "execution_count": 22,
     "metadata": {},
     "output_type": "execute_result"
    },
    {
     "data": {
      "image/png": "[encoded data removed]",
      "text/plain": [
       "<Figure size 936x432 with 1 Axes>"
      ]
     },
     "metadata": {
      "needs_background": "light"
     },
     "output_type": "display_data"
    }
   ],
   "source": [
    "plt.figure(figsize=(13, 6))\n",
    "plt.title(\"Распредение по кол-ву перелетов\", fontsize=14)\n",
    "sns.barplot(x=\"FLIGHTS\", y=\"FREQUENCY\", data=fl_freq_df)"
   ]
  },
  {
   "cell_type": "markdown",
   "metadata": {},
   "source": [
    "### Кол-во перелетов каждого пассажира"
   ]
  },
  {
   "cell_type": "code",
   "execution_count": 23,
   "metadata": {},
   "outputs": [
    {
     "data": {
      "text/html": [
       "<div>\n",
       "<style scoped>\n",
       "    .dataframe tbody tr th:only-of-type {\n",
       "        vertical-align: middle;\n",
       "    }\n",
       "\n",
       "    .dataframe tbody tr th {\n",
       "        vertical-align: top;\n",
       "    }\n",
       "\n",
       "    .dataframe thead th {\n",
       "        text-align: right;\n",
       "    }\n",
       "</style>\n",
       "<table border=\"1\" class=\"dataframe\">\n",
       "  <thead>\n",
       "    <tr style=\"text-align: right;\">\n",
       "      <th></th>\n",
       "      <th>FLIGHTER_DOC</th>\n",
       "      <th>FLIGHTS</th>\n",
       "    </tr>\n",
       "  </thead>\n",
       "  <tbody>\n",
       "    <tr>\n",
       "      <th>0</th>\n",
       "      <td>00 0136438</td>\n",
       "      <td>1</td>\n",
       "    </tr>\n",
       "    <tr>\n",
       "      <th>1</th>\n",
       "      <td>00 0213523</td>\n",
       "      <td>8</td>\n",
       "    </tr>\n",
       "    <tr>\n",
       "      <th>2</th>\n",
       "      <td>00 0288744</td>\n",
       "      <td>2</td>\n",
       "    </tr>\n",
       "    <tr>\n",
       "      <th>3</th>\n",
       "      <td>00 0342340</td>\n",
       "      <td>2</td>\n",
       "    </tr>\n",
       "    <tr>\n",
       "      <th>4</th>\n",
       "      <td>00 0350841</td>\n",
       "      <td>1</td>\n",
       "    </tr>\n",
       "  </tbody>\n",
       "</table>\n",
       "</div>"
      ],
      "text/plain": [
       "  FLIGHTER_DOC  FLIGHTS\n",
       "0   00 0136438        1\n",
       "1   00 0213523        8\n",
       "2   00 0288744        2\n",
       "3   00 0342340        2\n",
       "4   00 0350841        1"
      ]
     },
     "execution_count": 23,
     "metadata": {},
     "output_type": "execute_result"
    }
   ],
   "source": [
    "# grouped_df = df.groupby([\"ARRIVAL_DATE\", \"ARRIVAL_TIME\", \"FLIGHT_CODE_SH_FROM\"])[\"TRAVEL_DOC\"].size()\n",
    "# grouped_df = grouped_df.reset_index(name=\"FLIGHTS\")\n",
    "grouped_df = df.groupby([\"TRAVEL_DOC\"]).size()\n",
    "\n",
    "grouped_df = grouped_df.to_frame().reset_index()\n",
    "grouped_df.columns = [\"FLIGHTER_DOC\", \"FLIGHTS\"]\n",
    "# grouped_df.dropna(axis=1, how=\"all\")\n",
    "grouped_df.head()"
   ]
  },
  {
   "cell_type": "markdown",
   "metadata": {},
   "source": [
    "### Соединение кол-ва перелетов с пассажирами в основном источнике"
   ]
  },
  {
   "cell_type": "code",
   "execution_count": 24,
   "metadata": {},
   "outputs": [
    {
     "data": {
      "text/html": [
       "<div>\n",
       "<style scoped>\n",
       "    .dataframe tbody tr th:only-of-type {\n",
       "        vertical-align: middle;\n",
       "    }\n",
       "\n",
       "    .dataframe tbody tr th {\n",
       "        vertical-align: top;\n",
       "    }\n",
       "\n",
       "    .dataframe thead th {\n",
       "        text-align: right;\n",
       "    }\n",
       "</style>\n",
       "<table border=\"1\" class=\"dataframe\">\n",
       "  <thead>\n",
       "    <tr style=\"text-align: right;\">\n",
       "      <th></th>\n",
       "      <th>PAX_NAME</th>\n",
       "      <th>PATERNITY</th>\n",
       "      <th>DEPART_TIME</th>\n",
       "      <th>ARRIVAL_DATE</th>\n",
       "      <th>ARRIVAL_TIME</th>\n",
       "      <th>FLIGHT_CODE_SH_FROM</th>\n",
       "      <th>DEST</th>\n",
       "      <th>CODE</th>\n",
       "      <th>TICKET</th>\n",
       "      <th>TRAVEL_DOC</th>\n",
       "      <th>MEAL</th>\n",
       "      <th>TRV_CLS_FARE</th>\n",
       "      <th>BAGGAGE</th>\n",
       "      <th>AGENT_INFO</th>\n",
       "      <th>FLIGHTS</th>\n",
       "    </tr>\n",
       "  </thead>\n",
       "  <tbody>\n",
       "    <tr>\n",
       "      <th>3</th>\n",
       "      <td>SAMIR KOLOSOV</td>\n",
       "      <td>TAMERLANOVICH</td>\n",
       "      <td>10:50</td>\n",
       "      <td>2017-05-12</td>\n",
       "      <td>12:30</td>\n",
       "      <td>SU1277NO</td>\n",
       "      <td>KZN</td>\n",
       "      <td>SVO</td>\n",
       "      <td>1,78E+15</td>\n",
       "      <td>2 244 645 520</td>\n",
       "      <td>FPML</td>\n",
       "      <td>Y</td>\n",
       "      <td>YSTNNF</td>\n",
       "      <td>TRAVELGENIO</td>\n",
       "      <td>5</td>\n",
       "    </tr>\n",
       "    <tr>\n",
       "      <th>4</th>\n",
       "      <td>SAMIR KOLOSOV</td>\n",
       "      <td>TAMERLANOVICH</td>\n",
       "      <td>6:40</td>\n",
       "      <td>2017-12-29</td>\n",
       "      <td>11:10</td>\n",
       "      <td>SU1434NO</td>\n",
       "      <td>SVO</td>\n",
       "      <td>MQF</td>\n",
       "      <td>5,00E+15</td>\n",
       "      <td>2 244 645 520</td>\n",
       "      <td>LCML</td>\n",
       "      <td>Y</td>\n",
       "      <td>YGRPBV</td>\n",
       "      <td>GO2SEE</td>\n",
       "      <td>5</td>\n",
       "    </tr>\n",
       "    <tr>\n",
       "      <th>32</th>\n",
       "      <td>LYUBOV ERSHOVA</td>\n",
       "      <td>ZAKHAROVNA</td>\n",
       "      <td>10:25</td>\n",
       "      <td>2017-02-26</td>\n",
       "      <td>13:25</td>\n",
       "      <td>SU5610NO</td>\n",
       "      <td>VVO</td>\n",
       "      <td>UUS</td>\n",
       "      <td>7,95E+15</td>\n",
       "      <td>776 380 126</td>\n",
       "      <td>VGML</td>\n",
       "      <td>Y</td>\n",
       "      <td>YRSTSC1PC</td>\n",
       "      <td>ONETWOTRIP</td>\n",
       "      <td>3</td>\n",
       "    </tr>\n",
       "    <tr>\n",
       "      <th>33</th>\n",
       "      <td>LYUBOV ERSHOVA</td>\n",
       "      <td>ZAKHAROVNA</td>\n",
       "      <td>9:30</td>\n",
       "      <td>2017-03-23</td>\n",
       "      <td>11:30</td>\n",
       "      <td>SU1159NO</td>\n",
       "      <td>ROV</td>\n",
       "      <td>SVO</td>\n",
       "      <td>1,50E+15</td>\n",
       "      <td>776 380 126</td>\n",
       "      <td>KSML</td>\n",
       "      <td>Y</td>\n",
       "      <td>YSTNSX</td>\n",
       "      <td>TICKETS.RU</td>\n",
       "      <td>3</td>\n",
       "    </tr>\n",
       "    <tr>\n",
       "      <th>41</th>\n",
       "      <td>SAMIR BARSUKOV</td>\n",
       "      <td>GORDEEVICH</td>\n",
       "      <td>6:25</td>\n",
       "      <td>2017-02-04</td>\n",
       "      <td>6:40</td>\n",
       "      <td>SU1235NO</td>\n",
       "      <td>UFA</td>\n",
       "      <td>SVO</td>\n",
       "      <td>9,53E+15</td>\n",
       "      <td>78 271 703</td>\n",
       "      <td>VGML</td>\n",
       "      <td>A</td>\n",
       "      <td>ASTNXK0PC</td>\n",
       "      <td>EDREAMS</td>\n",
       "      <td>8</td>\n",
       "    </tr>\n",
       "    <tr>\n",
       "      <th>...</th>\n",
       "      <td>...</td>\n",
       "      <td>...</td>\n",
       "      <td>...</td>\n",
       "      <td>...</td>\n",
       "      <td>...</td>\n",
       "      <td>...</td>\n",
       "      <td>...</td>\n",
       "      <td>...</td>\n",
       "      <td>...</td>\n",
       "      <td>...</td>\n",
       "      <td>...</td>\n",
       "      <td>...</td>\n",
       "      <td>...</td>\n",
       "      <td>...</td>\n",
       "      <td>...</td>\n",
       "    </tr>\n",
       "    <tr>\n",
       "      <th>230358</th>\n",
       "      <td>VALERIIA KUZNETSOVA</td>\n",
       "      <td>IGOREVNA</td>\n",
       "      <td>16:35</td>\n",
       "      <td>2017-03-31</td>\n",
       "      <td>18:00</td>\n",
       "      <td>SU5602NO</td>\n",
       "      <td>VVO</td>\n",
       "      <td>KHV</td>\n",
       "      <td>9,76E+15</td>\n",
       "      <td>855 917 005</td>\n",
       "      <td>HNML</td>\n",
       "      <td>Y</td>\n",
       "      <td>YFLXVI</td>\n",
       "      <td>TICKETS.RU</td>\n",
       "      <td>2</td>\n",
       "    </tr>\n",
       "    <tr>\n",
       "      <th>230365</th>\n",
       "      <td>GEORGIY SOKOLOV</td>\n",
       "      <td>DMITRIEVICH</td>\n",
       "      <td>15:50</td>\n",
       "      <td>2017-02-05</td>\n",
       "      <td>17:30</td>\n",
       "      <td>SU5613NO</td>\n",
       "      <td>GDX</td>\n",
       "      <td>KHV</td>\n",
       "      <td>3,28E+15</td>\n",
       "      <td>687 189 998</td>\n",
       "      <td>HNML</td>\n",
       "      <td>Y</td>\n",
       "      <td>YGRPMN1PC</td>\n",
       "      <td>TRIP.RU</td>\n",
       "      <td>2</td>\n",
       "    </tr>\n",
       "    <tr>\n",
       "      <th>230366</th>\n",
       "      <td>GEORGII SOKOLOV</td>\n",
       "      <td>DMITRIEVICH</td>\n",
       "      <td>15:50</td>\n",
       "      <td>2017-02-05</td>\n",
       "      <td>17:30</td>\n",
       "      <td>SU5613NO</td>\n",
       "      <td>GDX</td>\n",
       "      <td>KHV</td>\n",
       "      <td>3,28E+15</td>\n",
       "      <td>687 189 998</td>\n",
       "      <td>HNML</td>\n",
       "      <td>Y</td>\n",
       "      <td>YGRPMN1PC</td>\n",
       "      <td>TRIP.RU</td>\n",
       "      <td>2</td>\n",
       "    </tr>\n",
       "    <tr>\n",
       "      <th>230374</th>\n",
       "      <td>NINA KLYUEVA</td>\n",
       "      <td>LVOVNA</td>\n",
       "      <td>18:55</td>\n",
       "      <td>2017-01-16</td>\n",
       "      <td>20:20</td>\n",
       "      <td>SU1375NO</td>\n",
       "      <td>EGO</td>\n",
       "      <td>SVO</td>\n",
       "      <td>2,32E+15</td>\n",
       "      <td>3 413 501 203</td>\n",
       "      <td>LCML</td>\n",
       "      <td>Y</td>\n",
       "      <td>YRSTDW1PC</td>\n",
       "      <td>GO2SEE</td>\n",
       "      <td>1</td>\n",
       "    </tr>\n",
       "    <tr>\n",
       "      <th>230380</th>\n",
       "      <td>LIANA KULESHOVA</td>\n",
       "      <td>TIMUROVNA</td>\n",
       "      <td>21:10</td>\n",
       "      <td>2017-01-08</td>\n",
       "      <td>23:00</td>\n",
       "      <td>SU1337NO</td>\n",
       "      <td>ARH</td>\n",
       "      <td>SVO</td>\n",
       "      <td>6,02E+14</td>\n",
       "      <td>5 574 196 531</td>\n",
       "      <td>FPML</td>\n",
       "      <td>Y</td>\n",
       "      <td>YFLXWL</td>\n",
       "      <td>TRIP.RU</td>\n",
       "      <td>1</td>\n",
       "    </tr>\n",
       "  </tbody>\n",
       "</table>\n",
       "<p>23332 rows × 15 columns</p>\n",
       "</div>"
      ],
      "text/plain": [
       "                   PAX_NAME      PATERNITY DEPART_TIME ARRIVAL_DATE  \\\n",
       "3             SAMIR KOLOSOV  TAMERLANOVICH       10:50   2017-05-12   \n",
       "4             SAMIR KOLOSOV  TAMERLANOVICH        6:40   2017-12-29   \n",
       "32           LYUBOV ERSHOVA     ZAKHAROVNA       10:25   2017-02-26   \n",
       "33           LYUBOV ERSHOVA     ZAKHAROVNA        9:30   2017-03-23   \n",
       "41           SAMIR BARSUKOV     GORDEEVICH        6:25   2017-02-04   \n",
       "...                     ...            ...         ...          ...   \n",
       "230358  VALERIIA KUZNETSOVA       IGOREVNA       16:35   2017-03-31   \n",
       "230365      GEORGIY SOKOLOV    DMITRIEVICH       15:50   2017-02-05   \n",
       "230366      GEORGII SOKOLOV    DMITRIEVICH       15:50   2017-02-05   \n",
       "230374         NINA KLYUEVA         LVOVNA       18:55   2017-01-16   \n",
       "230380      LIANA KULESHOVA      TIMUROVNA       21:10   2017-01-08   \n",
       "\n",
       "       ARRIVAL_TIME FLIGHT_CODE_SH_FROM DEST CODE    TICKET     TRAVEL_DOC  \\\n",
       "3             12:30            SU1277NO  KZN  SVO  1,78E+15  2 244 645 520   \n",
       "4             11:10            SU1434NO  SVO  MQF  5,00E+15  2 244 645 520   \n",
       "32            13:25            SU5610NO  VVO  UUS  7,95E+15    776 380 126   \n",
       "33            11:30            SU1159NO  ROV  SVO  1,50E+15    776 380 126   \n",
       "41             6:40            SU1235NO  UFA  SVO  9,53E+15     78 271 703   \n",
       "...             ...                 ...  ...  ...       ...            ...   \n",
       "230358        18:00            SU5602NO  VVO  KHV  9,76E+15    855 917 005   \n",
       "230365        17:30            SU5613NO  GDX  KHV  3,28E+15    687 189 998   \n",
       "230366        17:30            SU5613NO  GDX  KHV  3,28E+15    687 189 998   \n",
       "230374        20:20            SU1375NO  EGO  SVO  2,32E+15  3 413 501 203   \n",
       "230380        23:00            SU1337NO  ARH  SVO  6,02E+14  5 574 196 531   \n",
       "\n",
       "        MEAL TRV_CLS_FARE    BAGGAGE   AGENT_INFO  FLIGHTS  \n",
       "3       FPML            Y     YSTNNF  TRAVELGENIO        5  \n",
       "4       LCML            Y     YGRPBV       GO2SEE        5  \n",
       "32      VGML            Y  YRSTSC1PC   ONETWOTRIP        3  \n",
       "33      KSML            Y     YSTNSX   TICKETS.RU        3  \n",
       "41      VGML            A  ASTNXK0PC      EDREAMS        8  \n",
       "...      ...          ...        ...          ...      ...  \n",
       "230358  HNML            Y     YFLXVI   TICKETS.RU        2  \n",
       "230365  HNML            Y  YGRPMN1PC      TRIP.RU        2  \n",
       "230366  HNML            Y  YGRPMN1PC      TRIP.RU        2  \n",
       "230374  LCML            Y  YRSTDW1PC       GO2SEE        1  \n",
       "230380  FPML            Y     YFLXWL      TRIP.RU        1  \n",
       "\n",
       "[23332 rows x 15 columns]"
      ]
     },
     "execution_count": 24,
     "metadata": {},
     "output_type": "execute_result"
    }
   ],
   "source": [
    "merged_df = pd.merge(df, grouped_df, left_on=\"TRAVEL_DOC\", right_on=\"FLIGHTER_DOC\", how=\"inner\")\n",
    "merged_df = merged_df.drop(columns=[\"FLIGHTER_DOC\"])\n",
    "merged_df = merged_df.dropna()\n",
    "merged_df"
   ]
  },
  {
   "cell_type": "code",
   "execution_count": 25,
   "metadata": {},
   "outputs": [],
   "source": [
    "# write_path = \"normal_data\\\\Sirena-export_copy_NORMAL.csv\"\n",
    "# merged_df.to_csv(write_path, sep=';')"
   ]
  },
  {
   "cell_type": "code",
   "execution_count": null,
   "metadata": {},
   "outputs": [],
   "source": []
  },
  {
   "cell_type": "code",
   "execution_count": null,
   "metadata": {},
   "outputs": [],
   "source": []
  },
  {
   "cell_type": "code",
   "execution_count": null,
   "metadata": {},
   "outputs": [],
   "source": []
  }
 ],
 "metadata": {
  "kernelspec": {
   "display_name": "Python [conda env:root] *",
   "language": "python",
   "name": "conda-root-py"
  },
  "language_info": {
   "codemirror_mode": {
    "name": "ipython",
    "version": 3
   },
   "file_extension": ".py",
   "mimetype": "text/x-python",
   "name": "python",
   "nbconvert_exporter": "python",
   "pygments_lexer": "ipython3",
   "version": "3.7.3"
  }
 },
 "nbformat": 4,
 "nbformat_minor": 2
}
